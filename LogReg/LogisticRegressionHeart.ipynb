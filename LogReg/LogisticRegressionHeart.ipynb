{
 "cells": [
  {
   "cell_type": "code",
   "execution_count": 37,
   "metadata": {},
   "outputs": [],
   "source": [
    "#Import statements\n",
    "import pandas as pd\n",
    "import numpy as np\n",
    "from sklearn.model_selection import train_test_split\n",
    "from sklearn.linear_model import LogisticRegression\n",
    "from sklearn.preprocessing import MinMaxScaler\n",
    "from sklearn import metrics\n",
    "import statsmodels.api as sm\n",
    "from statsmodels.stats.outliers_influence import variance_inflation_factor"
   ]
  },
  {
   "cell_type": "code",
   "execution_count": 38,
   "metadata": {},
   "outputs": [],
   "source": [
    "#Store dataset in a dataframe object\n",
    "#Data is already clean: data has no null values, useless variables, nor non-numeric variables\n",
    "df = pd.read_csv('heart.csv')"
   ]
  },
  {
   "cell_type": "code",
   "execution_count": 39,
   "metadata": {},
   "outputs": [],
   "source": [
    "#Separate the result column from the data and store in x and y\n",
    "x = df.drop(['target'], 1)\n",
    "y = df['target']"
   ]
  },
  {
   "cell_type": "code",
   "execution_count": 40,
   "metadata": {},
   "outputs": [],
   "source": [
    "#Split the data into training and testing data\n",
    "x_train, x_test, y_train, y_test = train_test_split(x, y, test_size = .33, random_state = 42)"
   ]
  },
  {
   "cell_type": "code",
   "execution_count": 41,
   "metadata": {},
   "outputs": [],
   "source": [
    "#Fit input data to be between 0 and 1, and fit the data to a logistic regression object\n",
    "logreg = LogisticRegression()\n",
    "scaler = MinMaxScaler()\n",
    "x_train = scaler.fit_transform(x_train)\n",
    "logreg = logreg.fit(x_train, y_train)"
   ]
  },
  {
   "cell_type": "code",
   "execution_count": 42,
   "metadata": {},
   "outputs": [],
   "source": [
    "#Create a stats model of the data as well as a VIF dataframe for the present variables\n",
    "#x_train_sm = sm.add_constant(x_train)\n",
    "#logm1 = sm.GLM(y_train, x_train_sm, family = sm.families.Binomial())\n",
    "#res = logm1.fit()\n",
    "\n",
    "#vif = pd.DataFrame()\n",
    "#vif['Features'] = x.columns\n",
    "#x_df = pd.DataFrame(data = x_train, columns = x.columns, dtype = float)\n",
    "#vif['VIF'] = [variance_inflation_factor(x_df.values, i) for i in range(x_df.shape[1])]\n",
    "#vif['VIF'] = round(vif['VIF'], 2)\n",
    "#vif['VIF'] = vif.sort_values(by = \"VIF\", ascending = False)\n",
    "\n",
    "#print(res.summary())\n",
    "#vif"
   ]
  },
  {
   "cell_type": "code",
   "execution_count": 43,
   "metadata": {},
   "outputs": [],
   "source": [
    "#Remove columns with high p values and high VIF values"
   ]
  },
  {
   "cell_type": "code",
   "execution_count": 44,
   "metadata": {},
   "outputs": [],
   "source": [
    "#Make predictions and store them in a dataframe\n",
    "y_train_pred = res.predict(sm.add_constant(x_train))\n",
    "y_train_pred_df = pd.DataFrame({'Converted':y_train.values, 'Conversion_Prob':y_train_pred})\n",
    "y_train_pred_df['Predicted'] = y_train_pred_df.Conversion_Prob.map(lambda x: 1 if x > 0.5 else 0)"
   ]
  },
  {
   "cell_type": "code",
   "execution_count": 45,
   "metadata": {},
   "outputs": [
    {
     "name": "stdout",
     "output_type": "stream",
     "text": [
      "[[81 15]\n",
      " [ 8 99]]\n",
      "0.8866995073891626\n"
     ]
    }
   ],
   "source": [
    "#View accuracy of model on training data using a confusion matrix and the accuracy score\n",
    "confusion = metrics.confusion_matrix(y_train_pred_df.Converted, y_train_pred_df.Predicted)\n",
    "print(confusion)\n",
    "print(metrics.accuracy_score(y_train_pred_df.Converted, y_train_pred_df.Predicted))"
   ]
  },
  {
   "cell_type": "code",
   "execution_count": 46,
   "metadata": {},
   "outputs": [],
   "source": [
    "#Predict and View accuracy of model on training data using a confusion matrix and the accuracy score\n",
    "y_pred = res.predict(sm.add_constant(scaler.fit_transform(x_test)))\n",
    "y_pred_df = pd.DataFrame({'Converted':y_test.values, 'Conversion_Prob':y_pred})\n",
    "y_pred_df['Predicted'] = y_pred_df.Conversion_Prob.map(lambda x: 1 if x > 0.5 else 0)"
   ]
  },
  {
   "cell_type": "code",
   "execution_count": 47,
   "metadata": {},
   "outputs": [
    {
     "name": "stdout",
     "output_type": "stream",
     "text": [
      "[[33  9]\n",
      " [10 48]]\n",
      "0.81\n"
     ]
    }
   ],
   "source": [
    "confuzion = metrics.confusion_matrix(y_pred_df.Converted, y_pred_df.Predicted)\n",
    "print(confuzion)\n",
    "print(metrics.accuracy_score(y_pred_df.Converted, y_pred_df.Predicted))"
   ]
  }
 ],
 "metadata": {
  "kernelspec": {
   "display_name": "Python 3",
   "language": "python",
   "name": "python3"
  },
  "language_info": {
   "codemirror_mode": {
    "name": "ipython",
    "version": 3
   },
   "file_extension": ".py",
   "mimetype": "text/x-python",
   "name": "python",
   "nbconvert_exporter": "python",
   "pygments_lexer": "ipython3",
   "version": "3.8.3"
  }
 },
 "nbformat": 4,
 "nbformat_minor": 4
}
